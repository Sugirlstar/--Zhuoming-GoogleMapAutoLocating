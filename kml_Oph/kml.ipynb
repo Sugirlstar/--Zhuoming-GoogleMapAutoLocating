{
 "cells": [
  {
   "cell_type": "code",
   "execution_count": 18,
   "metadata": {},
   "outputs": [],
   "source": [
    "# -*- coding: UTF-8 -*-\n",
    "import datetime\n",
    "import pytz\n",
    "import simplekml\n",
    "import pandas as pd\n",
    "import sys\n",
    "file = sys.argv[1]\n",
    "time = datetime.datetime.now(tz=pytz.timezone('Asia/Shanghai')).strftime(\"%Y-%m-%d-h%H\")\n",
    "data = pd.read_excel('test.xlsx', index_col=0)\n",
    "kml = simplekml.Kml()\n",
    "for i in data.index:\n",
    "    pnt = kml.newpoint()\n",
    "    pnt.name = i\n",
    "    coords = tuple([float(i) for i in data['Coordinate'][i].strip('(').strip(')').split(',')])\n",
    "    pnt.coords = [coords]\n",
    "    pnt.description = description=data['Description'][i]\n",
    "    pnt.style.iconstyle.icon.href = 'images/icon-' + data['Type'][i] + str(data['Priority'][i]) +'.png'\n",
    "kml.savekmz('test' + '--' + time +'.kmz')"
   ]
  },
  {
   "cell_type": "code",
   "execution_count": 10,
   "metadata": {},
   "outputs": [
    {
     "name": "stdout",
     "output_type": "stream",
     "text": [
      "2023-02-13--22:12:49\n",
      "2023-02-13--22:12:49\n"
     ]
    }
   ],
   "source": [
    "import datetime\n",
    "import pytz\n",
    "# 目标时区\n",
    "dateStr = datetime.datetime.now().strftime(\"%Y-%m-%d--%H:%M:%S\")\n",
    "print(dateStr)  # 2021-11-09 14:00:51\n",
    "# 目标时区\n",
    "\n",
    "print(dateStr)  # 2021-11-09 13:00:51\n"
   ]
  }
 ],
 "metadata": {
  "kernelspec": {
   "display_name": "oi",
   "language": "python",
   "name": "python3"
  },
  "language_info": {
   "codemirror_mode": {
    "name": "ipython",
    "version": 3
   },
   "file_extension": ".py",
   "mimetype": "text/x-python",
   "name": "python",
   "nbconvert_exporter": "python",
   "pygments_lexer": "ipython3",
   "version": "3.10.8"
  },
  "orig_nbformat": 4,
  "vscode": {
   "interpreter": {
    "hash": "80d39d3080d3a8d5ceb39156273c91ce606a779d0073f20e409cb4d7ad4c5829"
   }
  }
 },
 "nbformat": 4,
 "nbformat_minor": 2
}
